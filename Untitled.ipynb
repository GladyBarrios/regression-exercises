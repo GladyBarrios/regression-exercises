{
 "cells": [
  {
   "cell_type": "code",
   "execution_count": 25,
   "id": "583a77bd",
   "metadata": {},
   "outputs": [],
   "source": [
    "import matplotlib.pyplot as plt\n",
    "import pandas as pd\n",
    "import numpy as np\n",
    "from sklearn.preprocessing import MinMaxScaler, StandardScaler, RobustScaler, QuantileTransformer\n",
    "from wrangle import wrangle_zillow\n",
    "from sklearn.model_selection import train_test_split\n",
    "import sklearn.preprocessing\n",
    "from sklearn.preprocessing import QuantileTransformer"
   ]
  },
  {
   "cell_type": "code",
   "execution_count": 2,
   "id": "ec16e8d9",
   "metadata": {},
   "outputs": [],
   "source": [
    "df = wrangle_zillow()"
   ]
  },
  {
   "cell_type": "code",
   "execution_count": 3,
   "id": "51c03de3",
   "metadata": {},
   "outputs": [
    {
     "data": {
      "text/html": [
       "<div>\n",
       "<style scoped>\n",
       "    .dataframe tbody tr th:only-of-type {\n",
       "        vertical-align: middle;\n",
       "    }\n",
       "\n",
       "    .dataframe tbody tr th {\n",
       "        vertical-align: top;\n",
       "    }\n",
       "\n",
       "    .dataframe thead th {\n",
       "        text-align: right;\n",
       "    }\n",
       "</style>\n",
       "<table border=\"1\" class=\"dataframe\">\n",
       "  <thead>\n",
       "    <tr style=\"text-align: right;\">\n",
       "      <th></th>\n",
       "      <th>bedroomcnt</th>\n",
       "      <th>bathroomcnt</th>\n",
       "      <th>calculatedfinishedsquarefeet</th>\n",
       "      <th>taxvaluedollarcnt</th>\n",
       "      <th>yearbuilt</th>\n",
       "      <th>taxamount</th>\n",
       "      <th>fips</th>\n",
       "    </tr>\n",
       "  </thead>\n",
       "  <tbody>\n",
       "    <tr>\n",
       "      <th>0</th>\n",
       "      <td>4</td>\n",
       "      <td>2.0</td>\n",
       "      <td>3633</td>\n",
       "      <td>296425</td>\n",
       "      <td>2005</td>\n",
       "      <td>6941.39</td>\n",
       "      <td>6037</td>\n",
       "    </tr>\n",
       "    <tr>\n",
       "      <th>1</th>\n",
       "      <td>3</td>\n",
       "      <td>4.0</td>\n",
       "      <td>1620</td>\n",
       "      <td>847770</td>\n",
       "      <td>2011</td>\n",
       "      <td>10244.94</td>\n",
       "      <td>6037</td>\n",
       "    </tr>\n",
       "    <tr>\n",
       "      <th>2</th>\n",
       "      <td>3</td>\n",
       "      <td>2.0</td>\n",
       "      <td>2077</td>\n",
       "      <td>646760</td>\n",
       "      <td>1926</td>\n",
       "      <td>7924.68</td>\n",
       "      <td>6037</td>\n",
       "    </tr>\n",
       "    <tr>\n",
       "      <th>3</th>\n",
       "      <td>0</td>\n",
       "      <td>0.0</td>\n",
       "      <td>1200</td>\n",
       "      <td>5328</td>\n",
       "      <td>1972</td>\n",
       "      <td>91.60</td>\n",
       "      <td>6037</td>\n",
       "    </tr>\n",
       "    <tr>\n",
       "      <th>4</th>\n",
       "      <td>0</td>\n",
       "      <td>0.0</td>\n",
       "      <td>171</td>\n",
       "      <td>6920</td>\n",
       "      <td>1973</td>\n",
       "      <td>255.17</td>\n",
       "      <td>6037</td>\n",
       "    </tr>\n",
       "  </tbody>\n",
       "</table>\n",
       "</div>"
      ],
      "text/plain": [
       "   bedroomcnt  bathroomcnt  calculatedfinishedsquarefeet  taxvaluedollarcnt  \\\n",
       "0           4          2.0                          3633             296425   \n",
       "1           3          4.0                          1620             847770   \n",
       "2           3          2.0                          2077             646760   \n",
       "3           0          0.0                          1200               5328   \n",
       "4           0          0.0                           171               6920   \n",
       "\n",
       "   yearbuilt  taxamount  fips  \n",
       "0       2005    6941.39  6037  \n",
       "1       2011   10244.94  6037  \n",
       "2       1926    7924.68  6037  \n",
       "3       1972      91.60  6037  \n",
       "4       1973     255.17  6037  "
      ]
     },
     "execution_count": 3,
     "metadata": {},
     "output_type": "execute_result"
    }
   ],
   "source": [
    "df.head()"
   ]
  },
  {
   "cell_type": "code",
   "execution_count": 4,
   "id": "a6fcb2cf",
   "metadata": {},
   "outputs": [
    {
     "data": {
      "text/html": [
       "<div>\n",
       "<style scoped>\n",
       "    .dataframe tbody tr th:only-of-type {\n",
       "        vertical-align: middle;\n",
       "    }\n",
       "\n",
       "    .dataframe tbody tr th {\n",
       "        vertical-align: top;\n",
       "    }\n",
       "\n",
       "    .dataframe thead th {\n",
       "        text-align: right;\n",
       "    }\n",
       "</style>\n",
       "<table border=\"1\" class=\"dataframe\">\n",
       "  <thead>\n",
       "    <tr style=\"text-align: right;\">\n",
       "      <th></th>\n",
       "      <th>bedroomcnt</th>\n",
       "      <th>bathroomcnt</th>\n",
       "      <th>calculatedfinishedsquarefeet</th>\n",
       "      <th>taxvaluedollarcnt</th>\n",
       "      <th>yearbuilt</th>\n",
       "      <th>taxamount</th>\n",
       "      <th>fips</th>\n",
       "    </tr>\n",
       "  </thead>\n",
       "  <tbody>\n",
       "    <tr>\n",
       "      <th>0</th>\n",
       "      <td>4</td>\n",
       "      <td>2.0</td>\n",
       "      <td>3633</td>\n",
       "      <td>296425</td>\n",
       "      <td>2005</td>\n",
       "      <td>6941.39</td>\n",
       "      <td>6037</td>\n",
       "    </tr>\n",
       "    <tr>\n",
       "      <th>1</th>\n",
       "      <td>3</td>\n",
       "      <td>4.0</td>\n",
       "      <td>1620</td>\n",
       "      <td>847770</td>\n",
       "      <td>2011</td>\n",
       "      <td>10244.94</td>\n",
       "      <td>6037</td>\n",
       "    </tr>\n",
       "    <tr>\n",
       "      <th>2</th>\n",
       "      <td>3</td>\n",
       "      <td>2.0</td>\n",
       "      <td>2077</td>\n",
       "      <td>646760</td>\n",
       "      <td>1926</td>\n",
       "      <td>7924.68</td>\n",
       "      <td>6037</td>\n",
       "    </tr>\n",
       "    <tr>\n",
       "      <th>3</th>\n",
       "      <td>0</td>\n",
       "      <td>0.0</td>\n",
       "      <td>1200</td>\n",
       "      <td>5328</td>\n",
       "      <td>1972</td>\n",
       "      <td>91.60</td>\n",
       "      <td>6037</td>\n",
       "    </tr>\n",
       "    <tr>\n",
       "      <th>4</th>\n",
       "      <td>0</td>\n",
       "      <td>0.0</td>\n",
       "      <td>171</td>\n",
       "      <td>6920</td>\n",
       "      <td>1973</td>\n",
       "      <td>255.17</td>\n",
       "      <td>6037</td>\n",
       "    </tr>\n",
       "    <tr>\n",
       "      <th>...</th>\n",
       "      <td>...</td>\n",
       "      <td>...</td>\n",
       "      <td>...</td>\n",
       "      <td>...</td>\n",
       "      <td>...</td>\n",
       "      <td>...</td>\n",
       "      <td>...</td>\n",
       "    </tr>\n",
       "    <tr>\n",
       "      <th>2094578</th>\n",
       "      <td>4</td>\n",
       "      <td>4.0</td>\n",
       "      <td>4375</td>\n",
       "      <td>422400</td>\n",
       "      <td>2015</td>\n",
       "      <td>13877.56</td>\n",
       "      <td>6037</td>\n",
       "    </tr>\n",
       "    <tr>\n",
       "      <th>2094579</th>\n",
       "      <td>4</td>\n",
       "      <td>3.0</td>\n",
       "      <td>2262</td>\n",
       "      <td>960756</td>\n",
       "      <td>2015</td>\n",
       "      <td>13494.52</td>\n",
       "      <td>6059</td>\n",
       "    </tr>\n",
       "    <tr>\n",
       "      <th>2094580</th>\n",
       "      <td>4</td>\n",
       "      <td>4.5</td>\n",
       "      <td>3127</td>\n",
       "      <td>536061</td>\n",
       "      <td>2014</td>\n",
       "      <td>6244.16</td>\n",
       "      <td>6059</td>\n",
       "    </tr>\n",
       "    <tr>\n",
       "      <th>2094581</th>\n",
       "      <td>3</td>\n",
       "      <td>2.5</td>\n",
       "      <td>1974</td>\n",
       "      <td>424353</td>\n",
       "      <td>2015</td>\n",
       "      <td>5302.70</td>\n",
       "      <td>6059</td>\n",
       "    </tr>\n",
       "    <tr>\n",
       "      <th>2094582</th>\n",
       "      <td>4</td>\n",
       "      <td>4.0</td>\n",
       "      <td>2110</td>\n",
       "      <td>554009</td>\n",
       "      <td>2014</td>\n",
       "      <td>6761.20</td>\n",
       "      <td>6037</td>\n",
       "    </tr>\n",
       "  </tbody>\n",
       "</table>\n",
       "<p>2094583 rows × 7 columns</p>\n",
       "</div>"
      ],
      "text/plain": [
       "         bedroomcnt  bathroomcnt  calculatedfinishedsquarefeet  \\\n",
       "0                 4          2.0                          3633   \n",
       "1                 3          4.0                          1620   \n",
       "2                 3          2.0                          2077   \n",
       "3                 0          0.0                          1200   \n",
       "4                 0          0.0                           171   \n",
       "...             ...          ...                           ...   \n",
       "2094578           4          4.0                          4375   \n",
       "2094579           4          3.0                          2262   \n",
       "2094580           4          4.5                          3127   \n",
       "2094581           3          2.5                          1974   \n",
       "2094582           4          4.0                          2110   \n",
       "\n",
       "         taxvaluedollarcnt  yearbuilt  taxamount  fips  \n",
       "0                   296425       2005    6941.39  6037  \n",
       "1                   847770       2011   10244.94  6037  \n",
       "2                   646760       1926    7924.68  6037  \n",
       "3                     5328       1972      91.60  6037  \n",
       "4                     6920       1973     255.17  6037  \n",
       "...                    ...        ...        ...   ...  \n",
       "2094578             422400       2015   13877.56  6037  \n",
       "2094579             960756       2015   13494.52  6059  \n",
       "2094580             536061       2014    6244.16  6059  \n",
       "2094581             424353       2015    5302.70  6059  \n",
       "2094582             554009       2014    6761.20  6037  \n",
       "\n",
       "[2094583 rows x 7 columns]"
      ]
     },
     "execution_count": 4,
     "metadata": {},
     "output_type": "execute_result"
    }
   ],
   "source": [
    "df"
   ]
  },
  {
   "cell_type": "code",
   "execution_count": 5,
   "id": "b8de9646",
   "metadata": {},
   "outputs": [
    {
     "name": "stdout",
     "output_type": "stream",
     "text": [
      "(1172966, 7) (502700, 7) (418917, 7)\n"
     ]
    }
   ],
   "source": [
    "train_validate, test = train_test_split(df, test_size=.2, random_state=123)\n",
    "train, validate = train_test_split(train_validate, test_size=.3, random_state=123)\n",
    "print(train.shape, validate.shape, test.shape)"
   ]
  },
  {
   "cell_type": "code",
   "execution_count": 6,
   "id": "804e2375",
   "metadata": {
    "scrolled": true
   },
   "outputs": [
    {
     "name": "stdout",
     "output_type": "stream",
     "text": [
      "<class 'pandas.core.frame.DataFrame'>\n",
      "Int64Index: 1172966 entries, 410426 to 1350688\n",
      "Data columns (total 7 columns):\n",
      " #   Column                        Non-Null Count    Dtype  \n",
      "---  ------                        --------------    -----  \n",
      " 0   bedroomcnt                    1172966 non-null  int64  \n",
      " 1   bathroomcnt                   1172966 non-null  float64\n",
      " 2   calculatedfinishedsquarefeet  1172966 non-null  int64  \n",
      " 3   taxvaluedollarcnt             1172966 non-null  int64  \n",
      " 4   yearbuilt                     1172966 non-null  int64  \n",
      " 5   taxamount                     1172966 non-null  float64\n",
      " 6   fips                          1172966 non-null  int64  \n",
      "dtypes: float64(2), int64(5)\n",
      "memory usage: 71.6 MB\n"
     ]
    }
   ],
   "source": [
    "train.info()"
   ]
  },
  {
   "cell_type": "code",
   "execution_count": 21,
   "id": "e38d8649",
   "metadata": {},
   "outputs": [
    {
     "data": {
      "text/html": [
       "<div>\n",
       "<style scoped>\n",
       "    .dataframe tbody tr th:only-of-type {\n",
       "        vertical-align: middle;\n",
       "    }\n",
       "\n",
       "    .dataframe tbody tr th {\n",
       "        vertical-align: top;\n",
       "    }\n",
       "\n",
       "    .dataframe thead th {\n",
       "        text-align: right;\n",
       "    }\n",
       "</style>\n",
       "<table border=\"1\" class=\"dataframe\">\n",
       "  <thead>\n",
       "    <tr style=\"text-align: right;\">\n",
       "      <th></th>\n",
       "      <th>bedroomcnt</th>\n",
       "      <th>bathroomcnt</th>\n",
       "      <th>calculatedfinishedsquarefeet</th>\n",
       "      <th>taxvaluedollarcnt</th>\n",
       "      <th>yearbuilt</th>\n",
       "      <th>taxamount</th>\n",
       "      <th>fips</th>\n",
       "    </tr>\n",
       "  </thead>\n",
       "  <tbody>\n",
       "    <tr>\n",
       "      <th>1708119</th>\n",
       "      <td>4</td>\n",
       "      <td>2.5</td>\n",
       "      <td>1844</td>\n",
       "      <td>80685</td>\n",
       "      <td>1966</td>\n",
       "      <td>879.16</td>\n",
       "      <td>6111</td>\n",
       "    </tr>\n",
       "    <tr>\n",
       "      <th>1128865</th>\n",
       "      <td>3</td>\n",
       "      <td>2.0</td>\n",
       "      <td>1480</td>\n",
       "      <td>685293</td>\n",
       "      <td>1970</td>\n",
       "      <td>7821.66</td>\n",
       "      <td>6059</td>\n",
       "    </tr>\n",
       "    <tr>\n",
       "      <th>932737</th>\n",
       "      <td>5</td>\n",
       "      <td>3.5</td>\n",
       "      <td>2683</td>\n",
       "      <td>373463</td>\n",
       "      <td>1967</td>\n",
       "      <td>3955.92</td>\n",
       "      <td>6111</td>\n",
       "    </tr>\n",
       "    <tr>\n",
       "      <th>1286825</th>\n",
       "      <td>4</td>\n",
       "      <td>1.5</td>\n",
       "      <td>1174</td>\n",
       "      <td>59882</td>\n",
       "      <td>1954</td>\n",
       "      <td>1087.48</td>\n",
       "      <td>6059</td>\n",
       "    </tr>\n",
       "    <tr>\n",
       "      <th>126841</th>\n",
       "      <td>2</td>\n",
       "      <td>1.0</td>\n",
       "      <td>946</td>\n",
       "      <td>164071</td>\n",
       "      <td>1941</td>\n",
       "      <td>2082.65</td>\n",
       "      <td>6037</td>\n",
       "    </tr>\n",
       "    <tr>\n",
       "      <th>...</th>\n",
       "      <td>...</td>\n",
       "      <td>...</td>\n",
       "      <td>...</td>\n",
       "      <td>...</td>\n",
       "      <td>...</td>\n",
       "      <td>...</td>\n",
       "      <td>...</td>\n",
       "    </tr>\n",
       "    <tr>\n",
       "      <th>699049</th>\n",
       "      <td>2</td>\n",
       "      <td>1.0</td>\n",
       "      <td>619</td>\n",
       "      <td>271476</td>\n",
       "      <td>1915</td>\n",
       "      <td>3223.66</td>\n",
       "      <td>6059</td>\n",
       "    </tr>\n",
       "    <tr>\n",
       "      <th>1677186</th>\n",
       "      <td>2</td>\n",
       "      <td>1.0</td>\n",
       "      <td>1018</td>\n",
       "      <td>185013</td>\n",
       "      <td>1947</td>\n",
       "      <td>2270.85</td>\n",
       "      <td>6037</td>\n",
       "    </tr>\n",
       "    <tr>\n",
       "      <th>947176</th>\n",
       "      <td>6</td>\n",
       "      <td>4.0</td>\n",
       "      <td>2802</td>\n",
       "      <td>365617</td>\n",
       "      <td>1921</td>\n",
       "      <td>4482.21</td>\n",
       "      <td>6037</td>\n",
       "    </tr>\n",
       "    <tr>\n",
       "      <th>730935</th>\n",
       "      <td>2</td>\n",
       "      <td>2.0</td>\n",
       "      <td>1666</td>\n",
       "      <td>346221</td>\n",
       "      <td>1963</td>\n",
       "      <td>4212.60</td>\n",
       "      <td>6059</td>\n",
       "    </tr>\n",
       "    <tr>\n",
       "      <th>1211165</th>\n",
       "      <td>2</td>\n",
       "      <td>1.0</td>\n",
       "      <td>896</td>\n",
       "      <td>155064</td>\n",
       "      <td>1949</td>\n",
       "      <td>2143.95</td>\n",
       "      <td>6037</td>\n",
       "    </tr>\n",
       "  </tbody>\n",
       "</table>\n",
       "<p>1178202 rows × 7 columns</p>\n",
       "</div>"
      ],
      "text/plain": [
       "         bedroomcnt  bathroomcnt  calculatedfinishedsquarefeet  \\\n",
       "1708119           4          2.5                          1844   \n",
       "1128865           3          2.0                          1480   \n",
       "932737            5          3.5                          2683   \n",
       "1286825           4          1.5                          1174   \n",
       "126841            2          1.0                           946   \n",
       "...             ...          ...                           ...   \n",
       "699049            2          1.0                           619   \n",
       "1677186           2          1.0                          1018   \n",
       "947176            6          4.0                          2802   \n",
       "730935            2          2.0                          1666   \n",
       "1211165           2          1.0                           896   \n",
       "\n",
       "         taxvaluedollarcnt  yearbuilt  taxamount  fips  \n",
       "1708119              80685       1966     879.16  6111  \n",
       "1128865             685293       1970    7821.66  6059  \n",
       "932737              373463       1967    3955.92  6111  \n",
       "1286825              59882       1954    1087.48  6059  \n",
       "126841              164071       1941    2082.65  6037  \n",
       "...                    ...        ...        ...   ...  \n",
       "699049              271476       1915    3223.66  6059  \n",
       "1677186             185013       1947    2270.85  6037  \n",
       "947176              365617       1921    4482.21  6037  \n",
       "730935              346221       1963    4212.60  6059  \n",
       "1211165             155064       1949    2143.95  6037  \n",
       "\n",
       "[1178202 rows x 7 columns]"
      ]
     },
     "execution_count": 21,
     "metadata": {},
     "output_type": "execute_result"
    }
   ],
   "source": [
    "x_train_and_validate, x_test = train_test_split(df, random_state=123)\n",
    "x_train, x_validate = train_test_split(x_train_and_validate)\n",
    "x_train"
   ]
  },
  {
   "cell_type": "markdown",
   "id": "e38aa161",
   "metadata": {},
   "source": [
    "## Apply the scalers we talked about in this lesson to your data and visualize the results for the unscaled and scaled distribution .\n"
   ]
  },
  {
   "cell_type": "code",
   "execution_count": 13,
   "id": "1d6fc84c",
   "metadata": {},
   "outputs": [
    {
     "data": {
      "text/plain": [
       "Text(0.5, 1.0, 'Scaled')"
      ]
     },
     "execution_count": 13,
     "metadata": {},
     "output_type": "execute_result"
    },
    {
     "data": {
      "image/png": "[encoded data removed]",
      "text/plain": [
       "<Figure size 936x432 with 2 Axes>"
      ]
     },
     "metadata": {
      "needs_background": "light"
     },
     "output_type": "display_data"
    }
   ],
   "source": [
    "scaler = sklearn.preprocessing.MinMaxScaler()\n",
    "# Note that we only call .fit with the training data,\n",
    "# but we use .transform to apply the scaling to all the data splits.\n",
    "scaler.fit(x_train)\n",
    "\n",
    "x_train_scaled = scaler.transform(x_train)\n",
    "x_validate_scaled = scaler.transform(x_validate)\n",
    "x_test_scaled = scaler.transform(x_test)\n",
    "\n",
    "plt.figure(figsize=(13, 6))\n",
    "plt.subplot(121)\n",
    "plt.hist(x_train, bins=25, ec='black')\n",
    "plt.title('Original')\n",
    "plt.subplot(122)\n",
    "plt.hist(x_train_scaled, bins=25, ec='black')\n",
    "plt.title('Scaled')\n"
   ]
  },
  {
   "cell_type": "code",
   "execution_count": 23,
   "id": "9bb529b8",
   "metadata": {},
   "outputs": [
    {
     "data": {
      "text/plain": [
       "array([[ 1.        ,  0.5       ,  0.26043956, ...,  0.30769231,\n",
       "        -0.85431805,  3.36363636],\n",
       "       [ 0.        ,  0.        , -0.13956044, ...,  0.46153846,\n",
       "         1.01941135,  1.        ],\n",
       "       [ 2.        ,  1.5       ,  1.18241758, ...,  0.34615385,\n",
       "        -0.02392328,  3.36363636],\n",
       "       ...,\n",
       "       [ 3.        ,  2.        ,  1.31318681, ..., -1.42307692,\n",
       "         0.1181185 ,  0.        ],\n",
       "       [-1.        ,  0.        ,  0.06483516, ...,  0.19230769,\n",
       "         0.04535275,  1.        ],\n",
       "       [-1.        , -1.        , -0.78131868, ..., -0.34615385,\n",
       "        -0.51296058,  0.        ]])"
      ]
     },
     "execution_count": 23,
     "metadata": {},
     "output_type": "execute_result"
    }
   ],
   "source": [
    "x_train_scaled = scaler.transform(x_train)\n",
    "x_train_scaled "
   ]
  },
  {
   "cell_type": "code",
   "execution_count": 17,
   "id": "cc517bd5",
   "metadata": {},
   "outputs": [
    {
     "data": {
      "text/plain": [
       "Text(0.5, 1.0, 'Scaled')"
      ]
     },
     "execution_count": 17,
     "metadata": {},
     "output_type": "execute_result"
    },
    {
     "data": {
      "image/png": "[encoded data removed]",
      "text/plain": [
       "<Figure size 936x432 with 2 Axes>"
      ]
     },
     "metadata": {
      "needs_background": "light"
     },
     "output_type": "display_data"
    }
   ],
   "source": [
    "scaler2 = sklearn.preprocessing.StandardScaler()\n",
    "# Note that we only call .fit with the training data,\n",
    "# but we use .transform to apply the scaling to all the data splits.\n",
    "scaler2.fit(x_train)\n",
    "\n",
    "x_train_scaled = scaler2.transform(x_train)\n",
    "x_validate_scaled = scaler2.transform(x_validate)\n",
    "x_test_scaled = scaler2.transform(x_test)\n",
    "\n",
    "plt.figure(figsize=(13, 6))\n",
    "plt.subplot(121)\n",
    "plt.hist(x_train, bins=25, ec='black')\n",
    "plt.title('Original')\n",
    "plt.subplot(122)\n",
    "plt.hist(x_train_scaled, bins=25, ec='black')\n",
    "plt.title('Scaled')\n"
   ]
  },
  {
   "cell_type": "code",
   "execution_count": 18,
   "id": "0f10ae94",
   "metadata": {},
   "outputs": [
    {
     "data": {
      "text/plain": [
       "Text(0.5, 1.0, 'Scaled')"
      ]
     },
     "execution_count": 18,
     "metadata": {},
     "output_type": "execute_result"
    },
    {
     "data": {
      "image/png": "[encoded data removed]",
      "text/plain": [
       "<Figure size 936x432 with 2 Axes>"
      ]
     },
     "metadata": {
      "needs_background": "light"
     },
     "output_type": "display_data"
    }
   ],
   "source": [
    "scaler3 = sklearn.preprocessing.RobustScaler()\n",
    "# Note that we only call .fit with the training data,\n",
    "# but we use .transform to apply the scaling to all the data splits.\n",
    "scaler3.fit(x_train)\n",
    "\n",
    "x_train_scaled = scaler3.transform(x_train)\n",
    "x_validate_scaled = scaler3.transform(x_validate)\n",
    "x_test_scaled = scaler3.transform(x_test)\n",
    "\n",
    "plt.figure(figsize=(13, 6))\n",
    "plt.subplot(121)\n",
    "plt.hist(x_train, bins=25, ec='black')\n",
    "plt.title('Original')\n",
    "plt.subplot(122)\n",
    "plt.hist(x_train_scaled, bins=25, ec='black')\n",
    "plt.title('Scaled')\n"
   ]
  },
  {
   "cell_type": "markdown",
   "id": "be4d8ad8",
   "metadata": {},
   "source": [
    "## Apply the .inverse_transform method to your scaled data. Is the resulting dataset the exact same as the original data?"
   ]
  },
  {
   "cell_type": "code",
   "execution_count": 19,
   "id": "36438b3f",
   "metadata": {},
   "outputs": [],
   "source": [
    "x_train_inverse = scaler.inverse_transform(x_train)"
   ]
  },
  {
   "cell_type": "code",
   "execution_count": 20,
   "id": "8fcf95a7",
   "metadata": {},
   "outputs": [
    {
     "data": {
      "text/plain": [
       "array([[6.00000000e+00, 4.00000000e+00, 1.22828700e+06, ...,\n",
       "        5.28920000e+04, 5.51286542e+06, 1.38851000e+05],\n",
       "       [6.00000000e+00, 4.00000000e+00, 1.19734700e+06, ...,\n",
       "        5.14620000e+04, 1.29116973e+07, 1.38851000e+05],\n",
       "       [6.00000000e+00, 4.00000000e+00, 1.40937700e+06, ...,\n",
       "        5.19820000e+04, 3.75442523e+06, 1.38851000e+05],\n",
       "       ...,\n",
       "       [6.00000000e+00, 4.00000000e+00, 1.79521700e+06, ...,\n",
       "        5.34380000e+04, 1.84914723e+07, 1.38851000e+05],\n",
       "       [6.00000000e+00, 4.00000000e+00, 1.41392700e+06, ...,\n",
       "        5.26840000e+04, 3.58320897e+06, 1.38851000e+05],\n",
       "       [7.00000000e+00, 4.50000000e+00, 1.97448700e+06, ...,\n",
       "        5.37760000e+04, 2.13486829e+07, 1.39335000e+05]])"
      ]
     },
     "execution_count": 20,
     "metadata": {},
     "output_type": "execute_result"
    }
   ],
   "source": [
    "x_train_inverse\n",
    "\n",
    "#no it looks very diffrentn"
   ]
  },
  {
   "cell_type": "markdown",
   "id": "a0008ae5",
   "metadata": {},
   "source": [
    "## Read the documentation for sklearn's QuantileTransformer. Use normal for the output_distribution and apply this scaler to your data. Visualize the result of your data scaling."
   ]
  },
  {
   "cell_type": "code",
   "execution_count": 47,
   "id": "326280c4",
   "metadata": {
    "scrolled": true
   },
   "outputs": [
    {
     "data": {
      "text/plain": [
       "Text(0.5, 1.0, 'Scaled')"
      ]
     },
     "execution_count": 47,
     "metadata": {},
     "output_type": "execute_result"
    },
    {
     "data": {
      "image/png": "[encoded data removed]",
      "text/plain": [
       "<Figure size 936x432 with 2 Axes>"
      ]
     },
     "metadata": {
      "needs_background": "light"
     },
     "output_type": "display_data"
    }
   ],
   "source": [
    "scaler4 = sklearn.preprocessing.QuantileTransformer(output_distribution='normal')\n",
    "scaler4.fit(x_train)\n",
    "\n",
    "x_train_scaled = scaler4.transform(x_train)\n",
    "x_validate_scaled = scaler4.transform(x_validate)\n",
    "x_test_scaled = scaler4.transform(x_test)\n",
    "\n",
    "plt.figure(figsize=(13, 6))\n",
    "plt.subplot(121)\n",
    "plt.hist(x_train, bins=25, ec='black')\n",
    "plt.title('Original')\n",
    "plt.subplot(122)\n",
    "plt.hist(x_train_scaled, bins=25, ec='black')\n",
    "plt.title('Scaled')\n"
   ]
  },
  {
   "cell_type": "markdown",
   "id": "562cd0bc",
   "metadata": {},
   "source": [
    "## Use the QuantileTransformer, but omit the output_distribution argument. Visualize your results. What do you notice?"
   ]
  },
  {
   "cell_type": "code",
   "execution_count": 48,
   "id": "e7b136b2",
   "metadata": {},
   "outputs": [
    {
     "data": {
      "text/plain": [
       "Text(0.5, 1.0, 'Scaled')"
      ]
     },
     "execution_count": 48,
     "metadata": {},
     "output_type": "execute_result"
    },
    {
     "data": {
      "image/png": "[encoded data removed]",
      "text/plain": [
       "<Figure size 936x432 with 2 Axes>"
      ]
     },
     "metadata": {
      "needs_background": "light"
     },
     "output_type": "display_data"
    }
   ],
   "source": [
    "scaler4 = sklearn.preprocessing.QuantileTransformer()\n",
    "scaler4.fit(x_train)\n",
    "\n",
    "x_train_scaled = scaler4.transform(x_train)\n",
    "x_validate_scaled = scaler4.transform(x_validate)\n",
    "x_test_scaled = scaler4.transform(x_test)\n",
    "\n",
    "plt.figure(figsize=(13, 6))\n",
    "plt.subplot(121)\n",
    "plt.hist(x_train, bins=25, ec='black')\n",
    "plt.title('Original')\n",
    "plt.subplot(122)\n",
    "plt.hist(x_train_scaled, bins=25, ec='black')\n",
    "plt.title('Scaled')"
   ]
  },
  {
   "cell_type": "code",
   "execution_count": null,
   "id": "547f06b6",
   "metadata": {},
   "outputs": [],
   "source": []
  },
  {
   "cell_type": "code",
   "execution_count": null,
   "id": "331f0e38",
   "metadata": {},
   "outputs": [],
   "source": []
  },
  {
   "cell_type": "code",
   "execution_count": null,
   "id": "891fea5c",
   "metadata": {},
   "outputs": [],
   "source": []
  },
  {
   "cell_type": "code",
   "execution_count": null,
   "id": "59c4e688",
   "metadata": {},
   "outputs": [],
   "source": []
  },
  {
   "cell_type": "code",
   "execution_count": null,
   "id": "9657063e",
   "metadata": {},
   "outputs": [],
   "source": []
  },
  {
   "cell_type": "code",
   "execution_count": null,
   "id": "bf14becc",
   "metadata": {},
   "outputs": [],
   "source": []
  },
  {
   "cell_type": "code",
   "execution_count": null,
   "id": "f852e91d",
   "metadata": {},
   "outputs": [],
   "source": []
  }
 ],
 "metadata": {
  "kernelspec": {
   "display_name": "Python 3 (ipykernel)",
   "language": "python",
   "name": "python3"
  },
  "language_info": {
   "codemirror_mode": {
    "name": "ipython",
    "version": 3
   },
   "file_extension": ".py",
   "mimetype": "text/x-python",
   "name": "python",
   "nbconvert_exporter": "python",
   "pygments_lexer": "ipython3",
   "version": "3.9.12"
  }
 },
 "nbformat": 4,
 "nbformat_minor": 5
}
