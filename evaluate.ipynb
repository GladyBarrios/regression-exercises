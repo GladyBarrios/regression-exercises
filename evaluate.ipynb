{
 "cells": [
  {
   "cell_type": "code",
   "execution_count": 35,
   "id": "ab9dc778",
   "metadata": {},
   "outputs": [],
   "source": [
    "import warnings\n",
    "warnings.filterwarnings(\"ignore\")\n",
    "\n",
    "import pandas as pd\n",
    "import numpy as np\n",
    "\n",
    "import matplotlib.pyplot as plt\n",
    "import seaborn as sns\n",
    "\n",
    "from sklearn.model_selection import train_test_split\n",
    "from scipy.stats import pearsonr, spearmanr\n",
    "\n",
    "import env\n",
    "from wrangle import wrangle_zillow\n",
    "import pandas as pd\n",
    "import numpy as np\n",
    "import matplotlib.pyplot as plt\n",
    "from scipy import stats\n",
    "from sklearn.metrics import mean_squared_error, r2_score\n",
    "\n",
    "from sklearn.linear_model import LinearRegression\n",
    "from sklearn.feature_selection import f_regression \n",
    "from math import sqrt\n",
    "import seaborn as sns\n",
    "import warnings\n",
    "warnings.filterwarnings('ignore')"
   ]
  },
  {
   "cell_type": "markdown",
   "id": "f7cc37e0",
   "metadata": {},
   "source": [
    "## 1) Load your zillow dataset."
   ]
  },
  {
   "cell_type": "code",
   "execution_count": 5,
   "id": "3e322701",
   "metadata": {
    "scrolled": true
   },
   "outputs": [
    {
     "data": {
      "text/html": [
       "<div>\n",
       "<style scoped>\n",
       "    .dataframe tbody tr th:only-of-type {\n",
       "        vertical-align: middle;\n",
       "    }\n",
       "\n",
       "    .dataframe tbody tr th {\n",
       "        vertical-align: top;\n",
       "    }\n",
       "\n",
       "    .dataframe thead th {\n",
       "        text-align: right;\n",
       "    }\n",
       "</style>\n",
       "<table border=\"1\" class=\"dataframe\">\n",
       "  <thead>\n",
       "    <tr style=\"text-align: right;\">\n",
       "      <th></th>\n",
       "      <th>bedroomcnt</th>\n",
       "      <th>bathroomcnt</th>\n",
       "      <th>calculatedfinishedsquarefeet</th>\n",
       "      <th>taxvaluedollarcnt</th>\n",
       "      <th>yearbuilt</th>\n",
       "      <th>taxamount</th>\n",
       "      <th>fips</th>\n",
       "    </tr>\n",
       "  </thead>\n",
       "  <tbody>\n",
       "    <tr>\n",
       "      <th>0</th>\n",
       "      <td>4</td>\n",
       "      <td>2.0</td>\n",
       "      <td>3633</td>\n",
       "      <td>296425</td>\n",
       "      <td>2005</td>\n",
       "      <td>6941.39</td>\n",
       "      <td>6037</td>\n",
       "    </tr>\n",
       "    <tr>\n",
       "      <th>1</th>\n",
       "      <td>3</td>\n",
       "      <td>4.0</td>\n",
       "      <td>1620</td>\n",
       "      <td>847770</td>\n",
       "      <td>2011</td>\n",
       "      <td>10244.94</td>\n",
       "      <td>6037</td>\n",
       "    </tr>\n",
       "    <tr>\n",
       "      <th>2</th>\n",
       "      <td>3</td>\n",
       "      <td>2.0</td>\n",
       "      <td>2077</td>\n",
       "      <td>646760</td>\n",
       "      <td>1926</td>\n",
       "      <td>7924.68</td>\n",
       "      <td>6037</td>\n",
       "    </tr>\n",
       "    <tr>\n",
       "      <th>3</th>\n",
       "      <td>0</td>\n",
       "      <td>0.0</td>\n",
       "      <td>1200</td>\n",
       "      <td>5328</td>\n",
       "      <td>1972</td>\n",
       "      <td>91.60</td>\n",
       "      <td>6037</td>\n",
       "    </tr>\n",
       "    <tr>\n",
       "      <th>4</th>\n",
       "      <td>0</td>\n",
       "      <td>0.0</td>\n",
       "      <td>171</td>\n",
       "      <td>6920</td>\n",
       "      <td>1973</td>\n",
       "      <td>255.17</td>\n",
       "      <td>6037</td>\n",
       "    </tr>\n",
       "  </tbody>\n",
       "</table>\n",
       "</div>"
      ],
      "text/plain": [
       "   bedroomcnt  bathroomcnt  calculatedfinishedsquarefeet  taxvaluedollarcnt  \\\n",
       "0           4          2.0                          3633             296425   \n",
       "1           3          4.0                          1620             847770   \n",
       "2           3          2.0                          2077             646760   \n",
       "3           0          0.0                          1200               5328   \n",
       "4           0          0.0                           171               6920   \n",
       "\n",
       "   yearbuilt  taxamount  fips  \n",
       "0       2005    6941.39  6037  \n",
       "1       2011   10244.94  6037  \n",
       "2       1926    7924.68  6037  \n",
       "3       1972      91.60  6037  \n",
       "4       1973     255.17  6037  "
      ]
     },
     "execution_count": 5,
     "metadata": {},
     "output_type": "execute_result"
    }
   ],
   "source": [
    "df = wrangle_zillow()\n",
    "df.head()"
   ]
  },
  {
   "cell_type": "code",
   "execution_count": 6,
   "id": "ea487acd",
   "metadata": {
    "scrolled": true
   },
   "outputs": [
    {
     "name": "stdout",
     "output_type": "stream",
     "text": [
      "(1172966, 7) (502700, 7) (418917, 7)\n"
     ]
    }
   ],
   "source": [
    "train_validate, test = train_test_split(df, test_size=.2, random_state=123)\n",
    "train, validate = train_test_split(train_validate, test_size=.3, random_state=123)\n",
    "print(train.shape, validate.shape, test.shape)"
   ]
  },
  {
   "cell_type": "code",
   "execution_count": 15,
   "id": "3e9b0000",
   "metadata": {},
   "outputs": [
    {
     "name": "stdout",
     "output_type": "stream",
     "text": [
      "<class 'pandas.core.frame.DataFrame'>\n",
      "Int64Index: 2094583 entries, 0 to 2094582\n",
      "Data columns (total 7 columns):\n",
      " #   Column                        Dtype  \n",
      "---  ------                        -----  \n",
      " 0   bedroomcnt                    int64  \n",
      " 1   bathroomcnt                   float64\n",
      " 2   calculatedfinishedsquarefeet  int64  \n",
      " 3   taxvaluedollarcnt             int64  \n",
      " 4   yearbuilt                     int64  \n",
      " 5   taxamount                     float64\n",
      " 6   fips                          int64  \n",
      "dtypes: float64(2), int64(5)\n",
      "memory usage: 127.8 MB\n"
     ]
    }
   ],
   "source": [
    "df.info()"
   ]
  },
  {
   "cell_type": "markdown",
   "id": "89ffc61f",
   "metadata": {},
   "source": [
    "## 2)Fit a linear regression model (ordinary least squares) and compute yhat, predictions of taxvaluedollarcnt using only calfulatedfinishedsqft.\n"
   ]
  },
  {
   "cell_type": "code",
   "execution_count": 22,
   "id": "a359ceb6",
   "metadata": {},
   "outputs": [],
   "source": [
    "x = train['calculatedfinishedsquarefeet']\n",
    "y =train['taxvaluedollarcnt']"
   ]
  },
  {
   "cell_type": "code",
   "execution_count": 17,
   "id": "f1723ac3",
   "metadata": {
    "scrolled": true
   },
   "outputs": [
    {
     "data": {
      "text/html": [
       "<div>\n",
       "<style scoped>\n",
       "    .dataframe tbody tr th:only-of-type {\n",
       "        vertical-align: middle;\n",
       "    }\n",
       "\n",
       "    .dataframe tbody tr th {\n",
       "        vertical-align: top;\n",
       "    }\n",
       "\n",
       "    .dataframe thead th {\n",
       "        text-align: right;\n",
       "    }\n",
       "</style>\n",
       "<table border=\"1\" class=\"dataframe\">\n",
       "  <thead>\n",
       "    <tr style=\"text-align: right;\">\n",
       "      <th></th>\n",
       "      <th>bedroomcnt</th>\n",
       "      <th>bathroomcnt</th>\n",
       "      <th>calculatedfinishedsquarefeet</th>\n",
       "      <th>taxvaluedollarcnt</th>\n",
       "      <th>yearbuilt</th>\n",
       "      <th>taxamount</th>\n",
       "      <th>fips</th>\n",
       "      <th>yhat</th>\n",
       "    </tr>\n",
       "  </thead>\n",
       "  <tbody>\n",
       "    <tr>\n",
       "      <th>410426</th>\n",
       "      <td>3</td>\n",
       "      <td>2.0</td>\n",
       "      <td>1550</td>\n",
       "      <td>357034</td>\n",
       "      <td>1961</td>\n",
       "      <td>4418.72</td>\n",
       "      <td>6037</td>\n",
       "      <td>357264.612498</td>\n",
       "    </tr>\n",
       "    <tr>\n",
       "      <th>533217</th>\n",
       "      <td>3</td>\n",
       "      <td>3.5</td>\n",
       "      <td>1800</td>\n",
       "      <td>287774</td>\n",
       "      <td>1996</td>\n",
       "      <td>2798.18</td>\n",
       "      <td>6059</td>\n",
       "      <td>399104.649483</td>\n",
       "    </tr>\n",
       "    <tr>\n",
       "      <th>695362</th>\n",
       "      <td>3</td>\n",
       "      <td>2.0</td>\n",
       "      <td>1542</td>\n",
       "      <td>588738</td>\n",
       "      <td>1923</td>\n",
       "      <td>7210.51</td>\n",
       "      <td>6037</td>\n",
       "      <td>355925.731315</td>\n",
       "    </tr>\n",
       "    <tr>\n",
       "      <th>729442</th>\n",
       "      <td>3</td>\n",
       "      <td>1.0</td>\n",
       "      <td>1128</td>\n",
       "      <td>290984</td>\n",
       "      <td>1952</td>\n",
       "      <td>3622.02</td>\n",
       "      <td>6037</td>\n",
       "      <td>286638.630067</td>\n",
       "    </tr>\n",
       "    <tr>\n",
       "      <th>524897</th>\n",
       "      <td>0</td>\n",
       "      <td>1.0</td>\n",
       "      <td>396</td>\n",
       "      <td>34541</td>\n",
       "      <td>1942</td>\n",
       "      <td>579.61</td>\n",
       "      <td>6037</td>\n",
       "      <td>164131.001774</td>\n",
       "    </tr>\n",
       "    <tr>\n",
       "      <th>...</th>\n",
       "      <td>...</td>\n",
       "      <td>...</td>\n",
       "      <td>...</td>\n",
       "      <td>...</td>\n",
       "      <td>...</td>\n",
       "      <td>...</td>\n",
       "      <td>...</td>\n",
       "      <td>...</td>\n",
       "    </tr>\n",
       "    <tr>\n",
       "      <th>81672</th>\n",
       "      <td>3</td>\n",
       "      <td>2.5</td>\n",
       "      <td>2460</td>\n",
       "      <td>463327</td>\n",
       "      <td>1966</td>\n",
       "      <td>5183.18</td>\n",
       "      <td>6059</td>\n",
       "      <td>509562.347124</td>\n",
       "    </tr>\n",
       "    <tr>\n",
       "      <th>806068</th>\n",
       "      <td>2</td>\n",
       "      <td>1.5</td>\n",
       "      <td>1191</td>\n",
       "      <td>517777</td>\n",
       "      <td>1987</td>\n",
       "      <td>5353.78</td>\n",
       "      <td>6059</td>\n",
       "      <td>297182.319387</td>\n",
       "    </tr>\n",
       "    <tr>\n",
       "      <th>703366</th>\n",
       "      <td>3</td>\n",
       "      <td>2.0</td>\n",
       "      <td>1755</td>\n",
       "      <td>478054</td>\n",
       "      <td>1944</td>\n",
       "      <td>5785.01</td>\n",
       "      <td>6037</td>\n",
       "      <td>391573.442826</td>\n",
       "    </tr>\n",
       "    <tr>\n",
       "      <th>798811</th>\n",
       "      <td>3</td>\n",
       "      <td>1.0</td>\n",
       "      <td>1188</td>\n",
       "      <td>72975</td>\n",
       "      <td>1947</td>\n",
       "      <td>482.63</td>\n",
       "      <td>6037</td>\n",
       "      <td>296680.238943</td>\n",
       "    </tr>\n",
       "    <tr>\n",
       "      <th>1350688</th>\n",
       "      <td>4</td>\n",
       "      <td>2.5</td>\n",
       "      <td>2045</td>\n",
       "      <td>224263</td>\n",
       "      <td>1989</td>\n",
       "      <td>2218.78</td>\n",
       "      <td>6059</td>\n",
       "      <td>440107.885729</td>\n",
       "    </tr>\n",
       "  </tbody>\n",
       "</table>\n",
       "<p>1172966 rows × 8 columns</p>\n",
       "</div>"
      ],
      "text/plain": [
       "         bedroomcnt  bathroomcnt  calculatedfinishedsquarefeet  \\\n",
       "410426            3          2.0                          1550   \n",
       "533217            3          3.5                          1800   \n",
       "695362            3          2.0                          1542   \n",
       "729442            3          1.0                          1128   \n",
       "524897            0          1.0                           396   \n",
       "...             ...          ...                           ...   \n",
       "81672             3          2.5                          2460   \n",
       "806068            2          1.5                          1191   \n",
       "703366            3          2.0                          1755   \n",
       "798811            3          1.0                          1188   \n",
       "1350688           4          2.5                          2045   \n",
       "\n",
       "         taxvaluedollarcnt  yearbuilt  taxamount  fips           yhat  \n",
       "410426              357034       1961    4418.72  6037  357264.612498  \n",
       "533217              287774       1996    2798.18  6059  399104.649483  \n",
       "695362              588738       1923    7210.51  6037  355925.731315  \n",
       "729442              290984       1952    3622.02  6037  286638.630067  \n",
       "524897               34541       1942     579.61  6037  164131.001774  \n",
       "...                    ...        ...        ...   ...            ...  \n",
       "81672               463327       1966    5183.18  6059  509562.347124  \n",
       "806068              517777       1987    5353.78  6059  297182.319387  \n",
       "703366              478054       1944    5785.01  6037  391573.442826  \n",
       "798811               72975       1947     482.63  6037  296680.238943  \n",
       "1350688             224263       1989    2218.78  6059  440107.885729  \n",
       "\n",
       "[1172966 rows x 8 columns]"
      ]
     },
     "execution_count": 17,
     "metadata": {},
     "output_type": "execute_result"
    }
   ],
   "source": [
    "from sklearn.linear_model import LinearRegression\n",
    "\n",
    "# Now we fit a regression model using OLS method.\n",
    "# OLS = ordinary least squares.\n",
    "\n",
    "# create the model object\n",
    "lm = LinearRegression(normalize=True)\n",
    "\n",
    "# fit the model to training data\n",
    "lm.fit(train[['calculatedfinishedsquarefeet']], train.taxvaluedollarcnt)\n",
    "\n",
    "# make prediction\n",
    "train['yhat'] = lm.predict(train[['calculatedfinishedsquarefeet']])\n",
    "\n",
    "train\n"
   ]
  },
  {
   "cell_type": "code",
   "execution_count": 19,
   "id": "3fa605bc",
   "metadata": {},
   "outputs": [],
   "source": [
    "train = train.drop(columns =['bedroomcnt','bathroomcnt', 'yearbuilt', 'taxamount', 'fips'])"
   ]
  },
  {
   "cell_type": "code",
   "execution_count": 21,
   "id": "ddfa354c",
   "metadata": {
    "scrolled": true
   },
   "outputs": [
    {
     "data": {
      "text/html": [
       "<div>\n",
       "<style scoped>\n",
       "    .dataframe tbody tr th:only-of-type {\n",
       "        vertical-align: middle;\n",
       "    }\n",
       "\n",
       "    .dataframe tbody tr th {\n",
       "        vertical-align: top;\n",
       "    }\n",
       "\n",
       "    .dataframe thead th {\n",
       "        text-align: right;\n",
       "    }\n",
       "</style>\n",
       "<table border=\"1\" class=\"dataframe\">\n",
       "  <thead>\n",
       "    <tr style=\"text-align: right;\">\n",
       "      <th></th>\n",
       "      <th>calculatedfinishedsquarefeet</th>\n",
       "      <th>taxvaluedollarcnt</th>\n",
       "      <th>yhat</th>\n",
       "      <th>baseline</th>\n",
       "    </tr>\n",
       "  </thead>\n",
       "  <tbody>\n",
       "    <tr>\n",
       "      <th>410426</th>\n",
       "      <td>1550</td>\n",
       "      <td>357034</td>\n",
       "      <td>357264.612498</td>\n",
       "      <td>398734.95404</td>\n",
       "    </tr>\n",
       "    <tr>\n",
       "      <th>533217</th>\n",
       "      <td>1800</td>\n",
       "      <td>287774</td>\n",
       "      <td>399104.649483</td>\n",
       "      <td>398734.95404</td>\n",
       "    </tr>\n",
       "    <tr>\n",
       "      <th>695362</th>\n",
       "      <td>1542</td>\n",
       "      <td>588738</td>\n",
       "      <td>355925.731315</td>\n",
       "      <td>398734.95404</td>\n",
       "    </tr>\n",
       "    <tr>\n",
       "      <th>729442</th>\n",
       "      <td>1128</td>\n",
       "      <td>290984</td>\n",
       "      <td>286638.630067</td>\n",
       "      <td>398734.95404</td>\n",
       "    </tr>\n",
       "    <tr>\n",
       "      <th>524897</th>\n",
       "      <td>396</td>\n",
       "      <td>34541</td>\n",
       "      <td>164131.001774</td>\n",
       "      <td>398734.95404</td>\n",
       "    </tr>\n",
       "  </tbody>\n",
       "</table>\n",
       "</div>"
      ],
      "text/plain": [
       "        calculatedfinishedsquarefeet  taxvaluedollarcnt           yhat  \\\n",
       "410426                          1550             357034  357264.612498   \n",
       "533217                          1800             287774  399104.649483   \n",
       "695362                          1542             588738  355925.731315   \n",
       "729442                          1128             290984  286638.630067   \n",
       "524897                           396              34541  164131.001774   \n",
       "\n",
       "            baseline  \n",
       "410426  398734.95404  \n",
       "533217  398734.95404  \n",
       "695362  398734.95404  \n",
       "729442  398734.95404  \n",
       "524897  398734.95404  "
      ]
     },
     "execution_count": 21,
     "metadata": {},
     "output_type": "execute_result"
    }
   ],
   "source": [
    "train['baseline'] = train.taxvaluedollarcnt.mean()\n",
    "train.head()"
   ]
  },
  {
   "cell_type": "markdown",
   "id": "cebddb8f",
   "metadata": {},
   "source": [
    "## Plot the residuals for the linear regression model that you made."
   ]
  },
  {
   "cell_type": "markdown",
   "id": "e78bed97",
   "metadata": {},
   "source": [
    "y = Actual target  \n",
    "yhat = OLS model prediction"
   ]
  },
  {
   "cell_type": "code",
   "execution_count": 26,
   "id": "a4e11dc0",
   "metadata": {},
   "outputs": [
    {
     "data": {
      "image/png": "[encoded data removed]",
      "text/plain": [
       "<Figure size 432x288 with 1 Axes>"
      ]
     },
     "metadata": {
      "needs_background": "light"
     },
     "output_type": "display_data"
    }
   ],
   "source": [
    "plt.scatter(train.calculatedfinishedsquarefeet, train.taxvaluedollarcnt)\n",
    "plt.plot(train.calculatedfinishedsquarefeet, train.yhat)\n",
    "plt.xlabel('x = exam1 score')\n",
    "plt.ylabel('y = final score')\n",
    "plt.title('OLS linear model');"
   ]
  },
  {
   "cell_type": "code",
   "execution_count": 27,
   "id": "58868d1d",
   "metadata": {},
   "outputs": [
    {
     "data": {
      "image/png": "[encoded data removed]",
      "text/plain": [
       "<Figure size 432x288 with 1 Axes>"
      ]
     },
     "metadata": {
      "needs_background": "light"
     },
     "output_type": "display_data"
    }
   ],
   "source": [
    "plt.scatter(train.calculatedfinishedsquarefeet, train.taxvaluedollarcnt)\n",
    "plt.axhline(train.taxvaluedollarcnt.mean(), ls = ':')\n",
    "plt.xlabel('x = exam1 score')\n",
    "plt.ylabel('y = final score')\n",
    "plt.title('Baseline model');"
   ]
  },
  {
   "cell_type": "markdown",
   "id": "dc6d9bc3",
   "metadata": {},
   "source": [
    "## 4)Calculate the sum of squared errors, explained sum of squares, total sum of squares, mean squared error, and root mean squared error for your model.\n",
    "\n",
    "## 5)Calculate the sum of squared errors, mean squared error, and root mean squared error for the baseline model (i.e. a model that always predicts the average taxvaluedollarcnt amount).\n",
    "\n"
   ]
  },
  {
   "cell_type": "code",
   "execution_count": 29,
   "id": "153991e2",
   "metadata": {},
   "outputs": [
    {
     "data": {
      "text/html": [
       "<div>\n",
       "<style scoped>\n",
       "    .dataframe tbody tr th:only-of-type {\n",
       "        vertical-align: middle;\n",
       "    }\n",
       "\n",
       "    .dataframe tbody tr th {\n",
       "        vertical-align: top;\n",
       "    }\n",
       "\n",
       "    .dataframe thead th {\n",
       "        text-align: right;\n",
       "    }\n",
       "</style>\n",
       "<table border=\"1\" class=\"dataframe\">\n",
       "  <thead>\n",
       "    <tr style=\"text-align: right;\">\n",
       "      <th></th>\n",
       "      <th>calculatedfinishedsquarefeet</th>\n",
       "      <th>taxvaluedollarcnt</th>\n",
       "      <th>yhat</th>\n",
       "      <th>baseline</th>\n",
       "      <th>residual</th>\n",
       "      <th>baseline_residual</th>\n",
       "    </tr>\n",
       "  </thead>\n",
       "  <tbody>\n",
       "    <tr>\n",
       "      <th>410426</th>\n",
       "      <td>1550</td>\n",
       "      <td>357034</td>\n",
       "      <td>357264.612498</td>\n",
       "      <td>398734.95404</td>\n",
       "      <td>-230.612498</td>\n",
       "      <td>-41700.95404</td>\n",
       "    </tr>\n",
       "    <tr>\n",
       "      <th>533217</th>\n",
       "      <td>1800</td>\n",
       "      <td>287774</td>\n",
       "      <td>399104.649483</td>\n",
       "      <td>398734.95404</td>\n",
       "      <td>-111330.649483</td>\n",
       "      <td>-110960.95404</td>\n",
       "    </tr>\n",
       "    <tr>\n",
       "      <th>695362</th>\n",
       "      <td>1542</td>\n",
       "      <td>588738</td>\n",
       "      <td>355925.731315</td>\n",
       "      <td>398734.95404</td>\n",
       "      <td>232812.268685</td>\n",
       "      <td>190003.04596</td>\n",
       "    </tr>\n",
       "    <tr>\n",
       "      <th>729442</th>\n",
       "      <td>1128</td>\n",
       "      <td>290984</td>\n",
       "      <td>286638.630067</td>\n",
       "      <td>398734.95404</td>\n",
       "      <td>4345.369933</td>\n",
       "      <td>-107750.95404</td>\n",
       "    </tr>\n",
       "    <tr>\n",
       "      <th>524897</th>\n",
       "      <td>396</td>\n",
       "      <td>34541</td>\n",
       "      <td>164131.001774</td>\n",
       "      <td>398734.95404</td>\n",
       "      <td>-129590.001774</td>\n",
       "      <td>-364193.95404</td>\n",
       "    </tr>\n",
       "    <tr>\n",
       "      <th>...</th>\n",
       "      <td>...</td>\n",
       "      <td>...</td>\n",
       "      <td>...</td>\n",
       "      <td>...</td>\n",
       "      <td>...</td>\n",
       "      <td>...</td>\n",
       "    </tr>\n",
       "    <tr>\n",
       "      <th>81672</th>\n",
       "      <td>2460</td>\n",
       "      <td>463327</td>\n",
       "      <td>509562.347124</td>\n",
       "      <td>398734.95404</td>\n",
       "      <td>-46235.347124</td>\n",
       "      <td>64592.04596</td>\n",
       "    </tr>\n",
       "    <tr>\n",
       "      <th>806068</th>\n",
       "      <td>1191</td>\n",
       "      <td>517777</td>\n",
       "      <td>297182.319387</td>\n",
       "      <td>398734.95404</td>\n",
       "      <td>220594.680613</td>\n",
       "      <td>119042.04596</td>\n",
       "    </tr>\n",
       "    <tr>\n",
       "      <th>703366</th>\n",
       "      <td>1755</td>\n",
       "      <td>478054</td>\n",
       "      <td>391573.442826</td>\n",
       "      <td>398734.95404</td>\n",
       "      <td>86480.557174</td>\n",
       "      <td>79319.04596</td>\n",
       "    </tr>\n",
       "    <tr>\n",
       "      <th>798811</th>\n",
       "      <td>1188</td>\n",
       "      <td>72975</td>\n",
       "      <td>296680.238943</td>\n",
       "      <td>398734.95404</td>\n",
       "      <td>-223705.238943</td>\n",
       "      <td>-325759.95404</td>\n",
       "    </tr>\n",
       "    <tr>\n",
       "      <th>1350688</th>\n",
       "      <td>2045</td>\n",
       "      <td>224263</td>\n",
       "      <td>440107.885729</td>\n",
       "      <td>398734.95404</td>\n",
       "      <td>-215844.885729</td>\n",
       "      <td>-174471.95404</td>\n",
       "    </tr>\n",
       "  </tbody>\n",
       "</table>\n",
       "<p>1172966 rows × 6 columns</p>\n",
       "</div>"
      ],
      "text/plain": [
       "         calculatedfinishedsquarefeet  taxvaluedollarcnt           yhat  \\\n",
       "410426                           1550             357034  357264.612498   \n",
       "533217                           1800             287774  399104.649483   \n",
       "695362                           1542             588738  355925.731315   \n",
       "729442                           1128             290984  286638.630067   \n",
       "524897                            396              34541  164131.001774   \n",
       "...                               ...                ...            ...   \n",
       "81672                            2460             463327  509562.347124   \n",
       "806068                           1191             517777  297182.319387   \n",
       "703366                           1755             478054  391573.442826   \n",
       "798811                           1188              72975  296680.238943   \n",
       "1350688                          2045             224263  440107.885729   \n",
       "\n",
       "             baseline       residual  baseline_residual  \n",
       "410426   398734.95404    -230.612498       -41700.95404  \n",
       "533217   398734.95404 -111330.649483      -110960.95404  \n",
       "695362   398734.95404  232812.268685       190003.04596  \n",
       "729442   398734.95404    4345.369933      -107750.95404  \n",
       "524897   398734.95404 -129590.001774      -364193.95404  \n",
       "...               ...            ...                ...  \n",
       "81672    398734.95404  -46235.347124        64592.04596  \n",
       "806068   398734.95404  220594.680613       119042.04596  \n",
       "703366   398734.95404   86480.557174        79319.04596  \n",
       "798811   398734.95404 -223705.238943      -325759.95404  \n",
       "1350688  398734.95404 -215844.885729      -174471.95404  \n",
       "\n",
       "[1172966 rows x 6 columns]"
      ]
     },
     "execution_count": 29,
     "metadata": {},
     "output_type": "execute_result"
    }
   ],
   "source": [
    "train['residual'] = train.taxvaluedollarcnt - train.yhat\n",
    "train['baseline_residual'] = train.taxvaluedollarcnt - train.baseline\n",
    "train"
   ]
  },
  {
   "cell_type": "code",
   "execution_count": 31,
   "id": "8ea436e8",
   "metadata": {},
   "outputs": [
    {
     "data": {
      "image/png": "[encoded data removed]",
      "text/plain": [
       "<Figure size 792x360 with 2 Axes>"
      ]
     },
     "metadata": {
      "needs_background": "light"
     },
     "output_type": "display_data"
    }
   ],
   "source": [
    "# residual plots (x vs residual)\n",
    "\n",
    "plt.figure(figsize = (11,5))\n",
    "\n",
    "plt.subplot(121)\n",
    "plt.scatter(train.calculatedfinishedsquarefeet, train.baseline_residual)\n",
    "plt.axhline(y = 0, ls = ':')\n",
    "plt.xlabel('x')\n",
    "plt.ylabel('Residual')\n",
    "plt.title('Baseline Residuals')\n",
    "\n",
    "plt.subplot(122)\n",
    "plt.scatter(train.calculatedfinishedsquarefeet, train.residual)\n",
    "plt.axhline(y = 0, ls = ':')\n",
    "plt.xlabel('x')\n",
    "plt.ylabel('Residual')\n",
    "plt.title('OLS model residuals');"
   ]
  },
  {
   "cell_type": "markdown",
   "id": "65b82742",
   "metadata": {},
   "source": [
    "- sum of squared errors for model and baseline "
   ]
  },
  {
   "cell_type": "code",
   "execution_count": 33,
   "id": "ea1acbea",
   "metadata": {},
   "outputs": [
    {
     "name": "stdout",
     "output_type": "stream",
     "text": [
      "SSE 8.697646711380394e+16\n",
      "SSE baseline 1.1546423369220853e+17\n"
     ]
    }
   ],
   "source": [
    "\n",
    "SSE2 = MSE2 * len(train)\n",
    "SSE2_baseline = MSE2_baseline * len(train)\n",
    "\n",
    "print(\"SSE\", SSE2) \n",
    "print(\"SSE baseline\" ,SSE2_baseline) "
   ]
  },
  {
   "cell_type": "markdown",
   "id": "79c50498",
   "metadata": {},
   "source": [
    "- explained sum of squares"
   ]
  },
  {
   "cell_type": "code",
   "execution_count": 43,
   "id": "d7f470c1",
   "metadata": {
    "scrolled": true
   },
   "outputs": [
    {
     "data": {
      "text/html": [
       "<div>\n",
       "<style scoped>\n",
       "    .dataframe tbody tr th:only-of-type {\n",
       "        vertical-align: middle;\n",
       "    }\n",
       "\n",
       "    .dataframe tbody tr th {\n",
       "        vertical-align: top;\n",
       "    }\n",
       "\n",
       "    .dataframe thead th {\n",
       "        text-align: right;\n",
       "    }\n",
       "</style>\n",
       "<table border=\"1\" class=\"dataframe\">\n",
       "  <thead>\n",
       "    <tr style=\"text-align: right;\">\n",
       "      <th></th>\n",
       "      <th>calculatedfinishedsquarefeet</th>\n",
       "      <th>taxvaluedollarcnt</th>\n",
       "      <th>yhat</th>\n",
       "      <th>baseline</th>\n",
       "      <th>residual</th>\n",
       "      <th>baseline_residual</th>\n",
       "      <th>residual^2</th>\n",
       "      <th>baseline_residual^2</th>\n",
       "    </tr>\n",
       "  </thead>\n",
       "  <tbody>\n",
       "    <tr>\n",
       "      <th>410426</th>\n",
       "      <td>1550</td>\n",
       "      <td>357034</td>\n",
       "      <td>357264.612498</td>\n",
       "      <td>398734.95404</td>\n",
       "      <td>-230.612498</td>\n",
       "      <td>-41700.95404</td>\n",
       "      <td>5.318212e+04</td>\n",
       "      <td>1.738970e+09</td>\n",
       "    </tr>\n",
       "    <tr>\n",
       "      <th>533217</th>\n",
       "      <td>1800</td>\n",
       "      <td>287774</td>\n",
       "      <td>399104.649483</td>\n",
       "      <td>398734.95404</td>\n",
       "      <td>-111330.649483</td>\n",
       "      <td>-110960.95404</td>\n",
       "      <td>1.239451e+10</td>\n",
       "      <td>1.231233e+10</td>\n",
       "    </tr>\n",
       "    <tr>\n",
       "      <th>695362</th>\n",
       "      <td>1542</td>\n",
       "      <td>588738</td>\n",
       "      <td>355925.731315</td>\n",
       "      <td>398734.95404</td>\n",
       "      <td>232812.268685</td>\n",
       "      <td>190003.04596</td>\n",
       "      <td>5.420155e+10</td>\n",
       "      <td>3.610116e+10</td>\n",
       "    </tr>\n",
       "    <tr>\n",
       "      <th>729442</th>\n",
       "      <td>1128</td>\n",
       "      <td>290984</td>\n",
       "      <td>286638.630067</td>\n",
       "      <td>398734.95404</td>\n",
       "      <td>4345.369933</td>\n",
       "      <td>-107750.95404</td>\n",
       "      <td>1.888224e+07</td>\n",
       "      <td>1.161027e+10</td>\n",
       "    </tr>\n",
       "    <tr>\n",
       "      <th>524897</th>\n",
       "      <td>396</td>\n",
       "      <td>34541</td>\n",
       "      <td>164131.001774</td>\n",
       "      <td>398734.95404</td>\n",
       "      <td>-129590.001774</td>\n",
       "      <td>-364193.95404</td>\n",
       "      <td>1.679357e+10</td>\n",
       "      <td>1.326372e+11</td>\n",
       "    </tr>\n",
       "  </tbody>\n",
       "</table>\n",
       "</div>"
      ],
      "text/plain": [
       "        calculatedfinishedsquarefeet  taxvaluedollarcnt           yhat  \\\n",
       "410426                          1550             357034  357264.612498   \n",
       "533217                          1800             287774  399104.649483   \n",
       "695362                          1542             588738  355925.731315   \n",
       "729442                          1128             290984  286638.630067   \n",
       "524897                           396              34541  164131.001774   \n",
       "\n",
       "            baseline       residual  baseline_residual    residual^2  \\\n",
       "410426  398734.95404    -230.612498       -41700.95404  5.318212e+04   \n",
       "533217  398734.95404 -111330.649483      -110960.95404  1.239451e+10   \n",
       "695362  398734.95404  232812.268685       190003.04596  5.420155e+10   \n",
       "729442  398734.95404    4345.369933      -107750.95404  1.888224e+07   \n",
       "524897  398734.95404 -129590.001774      -364193.95404  1.679357e+10   \n",
       "\n",
       "        baseline_residual^2  \n",
       "410426         1.738970e+09  \n",
       "533217         1.231233e+10  \n",
       "695362         3.610116e+10  \n",
       "729442         1.161027e+10  \n",
       "524897         1.326372e+11  "
      ]
     },
     "execution_count": 43,
     "metadata": {},
     "output_type": "execute_result"
    }
   ],
   "source": [
    "train['residual^2'] = train.residual**2\n",
    "train['baseline_residual^2'] = train.baseline_residual**2\n",
    "\n",
    "train.head()"
   ]
  },
  {
   "cell_type": "code",
   "execution_count": 46,
   "id": "89dc4f49",
   "metadata": {},
   "outputs": [
    {
     "name": "stdout",
     "output_type": "stream",
     "text": [
      "SSE = 86976467113803936.0\n",
      "SSE Baseline = 115464233692208544.0\n"
     ]
    }
   ],
   "source": [
    "SSE = train['residual^2'].sum()\n",
    "SSE_baseline = train['baseline_residual^2'].sum()\n",
    "\n",
    "print('SSE =', \"{:.1f}\".format(SSE))\n",
    "print(\"SSE Baseline =\", \"{:.1f}\".format(SSE_baseline))"
   ]
  },
  {
   "cell_type": "code",
   "execution_count": 47,
   "id": "f83f5eaa",
   "metadata": {},
   "outputs": [
    {
     "data": {
      "text/plain": [
       "2.848776657840461e+16"
      ]
     },
     "execution_count": 47,
     "metadata": {},
     "output_type": "execute_result"
    }
   ],
   "source": [
    "# calculate R2 manually:\n",
    "\n",
    "# Total Sum of Squares = SSE for baseline\n",
    "TSS = SSE_baseline = train['baseline_residual^2'].sum()\n",
    "\n",
    "# Sum of squared error for the regression line (Unexplained error)\n",
    "SSE = train['residual^2'].sum()\n",
    "\n",
    "# ESS - Explained sum of squares ('Explained Error')\n",
    "ESS = TSS - SSE\n",
    "\n",
    "ESS"
   ]
  },
  {
   "cell_type": "markdown",
   "id": "daef2c6a",
   "metadata": {},
   "source": [
    "- total sum of squares model and baseline"
   ]
  },
  {
   "cell_type": "code",
   "execution_count": 49,
   "id": "9401bdb4",
   "metadata": {},
   "outputs": [
    {
     "data": {
      "text/plain": [
       "1.1546423369220854e+17"
      ]
     },
     "execution_count": 49,
     "metadata": {},
     "output_type": "execute_result"
    }
   ],
   "source": [
    "# for baseline \n",
    "TSS = SSE_baseline = train['baseline_residual^2'].sum()\n",
    "TSS"
   ]
  },
  {
   "cell_type": "code",
   "execution_count": 50,
   "id": "12bd89f2",
   "metadata": {},
   "outputs": [
    {
     "data": {
      "text/plain": [
       "8.697646711380394e+16"
      ]
     },
     "execution_count": 50,
     "metadata": {},
     "output_type": "execute_result"
    }
   ],
   "source": [
    "TSSM = SSE_model = train['residual^2'].sum()\n",
    "TSSM"
   ]
  },
  {
   "cell_type": "markdown",
   "id": "15dbafb6",
   "metadata": {},
   "source": [
    "- mean squared error for model and badeline "
   ]
  },
  {
   "cell_type": "code",
   "execution_count": 32,
   "id": "be847be1",
   "metadata": {},
   "outputs": [
    {
     "name": "stdout",
     "output_type": "stream",
     "text": [
      "MSE 74150885118.41258\n",
      "MSE baseline 98437835105.37265\n"
     ]
    }
   ],
   "source": [
    "from sklearn.metrics import mean_squared_error\n",
    "\n",
    "MSE2 = mean_squared_error(train.taxvaluedollarcnt, train.yhat)\n",
    "MSE2_baseline = mean_squared_error(train.taxvaluedollarcnt, train.baseline)\n",
    "\n",
    "print(\"MSE\", MSE2) \n",
    "print(\"MSE baseline\" ,MSE2_baseline) "
   ]
  },
  {
   "cell_type": "markdown",
   "id": "1a6ee72c",
   "metadata": {},
   "source": [
    "- root mean squared error"
   ]
  },
  {
   "cell_type": "code",
   "execution_count": 51,
   "id": "e26bc63a",
   "metadata": {},
   "outputs": [
    {
     "name": "stdout",
     "output_type": "stream",
     "text": [
      "RMSE 272306.6013125877\n",
      "RMSE baseline 313748.04398652853\n"
     ]
    }
   ],
   "source": [
    "RMSE2 = mean_squared_error(train.taxvaluedollarcnt, train.yhat, squared = False)\n",
    "RMSE2_baseline = mean_squared_error(train.taxvaluedollarcnt, train.baseline, squared=False)\n",
    "\n",
    "print(\"RMSE\", RMSE2) \n",
    "print(\"RMSE baseline\" ,RMSE2_baseline)  "
   ]
  },
  {
   "cell_type": "markdown",
   "id": "2ffbeaf7",
   "metadata": {},
   "source": [
    "## 6)Write python code that compares the sum of squared errors for your model against the sum of squared errors for the baseline model and outputs whether or not your model performs better than the baseline model."
   ]
  },
  {
   "cell_type": "code",
   "execution_count": 52,
   "id": "47109e6f",
   "metadata": {},
   "outputs": [
    {
     "name": "stdout",
     "output_type": "stream",
     "text": [
      "Model beats baseline\n"
     ]
    }
   ],
   "source": [
    "if SSE < SSE_baseline:\n",
    "    print ('Model beats baseline')\n",
    "else:\n",
    "    print ('Baseline beats model')"
   ]
  },
  {
   "cell_type": "markdown",
   "id": "988c3103",
   "metadata": {},
   "source": [
    "## What is the amount of variance explained in your model?"
   ]
  },
  {
   "cell_type": "code",
   "execution_count": 53,
   "id": "fa3acd1b",
   "metadata": {},
   "outputs": [
    {
     "data": {
      "text/plain": [
       "0.2467237313880597"
      ]
     },
     "execution_count": 53,
     "metadata": {},
     "output_type": "execute_result"
    }
   ],
   "source": [
    "# calculate R2 the easy way:\n",
    "\n",
    "from sklearn.metrics import r2_score\n",
    "r2_score(train.taxvaluedollarcnt, train.yhat)"
   ]
  },
  {
   "cell_type": "code",
   "execution_count": 54,
   "id": "b169ce9f",
   "metadata": {},
   "outputs": [
    {
     "data": {
      "text/plain": [
       "0.24672373138805836"
      ]
     },
     "execution_count": 54,
     "metadata": {},
     "output_type": "execute_result"
    }
   ],
   "source": [
    "TSS = SSE_baseline = df['baseline_residual^2'].sum()\n",
    "\n",
    "# Sum of squared error for the regression line (Unexplained error)\n",
    "SSE = df['residual^2'].sum()\n",
    "\n",
    "# ESS - Explained sum of squares ('Explained Error')\n",
    "ESS = TSS - SSE\n",
    "\n",
    "# Calculate R2\n",
    "R2 = ESS/TSS\n",
    "R2"
   ]
  },
  {
   "cell_type": "code",
   "execution_count": 55,
   "id": "27b30e2c",
   "metadata": {},
   "outputs": [
    {
     "data": {
      "text/plain": [
       "1.1546423369220843e+17"
      ]
     },
     "execution_count": 55,
     "metadata": {},
     "output_type": "execute_result"
    }
   ],
   "source": [
    "TSS"
   ]
  },
  {
   "cell_type": "code",
   "execution_count": null,
   "id": "4391c9fd",
   "metadata": {},
   "outputs": [],
   "source": []
  },
  {
   "cell_type": "markdown",
   "id": "896f43c5",
   "metadata": {},
   "source": [
    "Is your model better than the baseline model?"
   ]
  },
  {
   "cell_type": "markdown",
   "id": "59613af6",
   "metadata": {},
   "source": [
    "- yes it is "
   ]
  },
  {
   "cell_type": "markdown",
   "id": "59869bf8",
   "metadata": {},
   "source": [
    "Create a file named evaluate.py that contains the following functions.\n",
    "\n",
    "plot_residuals(y, yhat): creates a residual plot\n",
    "regression_errors(y, yhat): returns the following values:\n",
    "sum of squared errors (SSE)\n",
    "explained sum of squares (ESS)\n",
    "total sum of squares (TSS)\n",
    "mean squared error (MSE)\n",
    "root mean squared error (RMSE)\n",
    "baseline_mean_errors(y): computes the SSE, MSE, and RMSE for the baseline model\n",
    "better_than_baseline(y, yhat): returns true if your model performs better than the baseline, otherwise false"
   ]
  },
  {
   "cell_type": "code",
   "execution_count": null,
   "id": "d96d8255",
   "metadata": {},
   "outputs": [],
   "source": [
    "#Dependencies for these functions\n",
    "import math\n",
    "from sklearn.metrics import mean_squared_error"
   ]
  },
  {
   "cell_type": "code",
   "execution_count": null,
   "id": "bac64c7b",
   "metadata": {},
   "outputs": [],
   "source": [
    "def plot_residuals(y, yhat):\n",
    "    residuals = yhat - y\n",
    "    plt.scatter(x=y, y=residuals)\n",
    "    plt.title('Residual plot')    "
   ]
  },
  {
   "cell_type": "code",
   "execution_count": null,
   "id": "176c8ee0",
   "metadata": {},
   "outputs": [],
   "source": [
    "def regression_errors(y, yhat):\n",
    "    sse = mean_squared_error(y, yhat) * len(y)\n",
    "    ess = sum((yhat - y.mean()) ** 2)\n",
    "    tss = sse + ess\n",
    "    mse = mean_squared_error(y, yhat)\n",
    "    rmse = math.sqrt(mse)\n",
    "    return sse, ess, tss, mse, rmse"
   ]
  },
  {
   "cell_type": "code",
   "execution_count": null,
   "id": "5b581c6f",
   "metadata": {},
   "outputs": [],
   "source": [
    "def baseline_mean_errors(y):\n",
    "    sse = mean_squared_error(y, y.mean()) * len(y)\n",
    "    mse = mean_squared_error(y, y.mean())\n",
    "    rmse = math.sqrt(mse)\n",
    "    return sse, mse, rmse"
   ]
  },
  {
   "cell_type": "code",
   "execution_count": null,
   "id": "2c349c82",
   "metadata": {},
   "outputs": [],
   "source": [
    "def better_than_baseline(y, yhat):\n",
    "    sse = regression_errors(y, yhat)\n",
    "    sse_b = baseline_mean_errors(y)\n",
    "    if sse < sse_b:\n",
    "        return True\n",
    "    else:\n",
    "        return False"
   ]
  },
  {
   "cell_type": "code",
   "execution_count": null,
   "id": "2d37557b",
   "metadata": {},
   "outputs": [],
   "source": []
  },
  {
   "cell_type": "code",
   "execution_count": null,
   "id": "ba9ed390",
   "metadata": {},
   "outputs": [],
   "source": []
  }
 ],
 "metadata": {
  "kernelspec": {
   "display_name": "Python 3 (ipykernel)",
   "language": "python",
   "name": "python3"
  },
  "language_info": {
   "codemirror_mode": {
    "name": "ipython",
    "version": 3
   },
   "file_extension": ".py",
   "mimetype": "text/x-python",
   "name": "python",
   "nbconvert_exporter": "python",
   "pygments_lexer": "ipython3",
   "version": "3.9.12"
  }
 },
 "nbformat": 4,
 "nbformat_minor": 5
}
